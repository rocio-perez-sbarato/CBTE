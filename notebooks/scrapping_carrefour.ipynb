{
  "cells": [
    {
      "cell_type": "markdown",
      "metadata": {
        "id": "bqOWRHyCnJyR"
      },
      "source": [
        "# Web Scrapping de [carrefour.com.ar](https://www.carrefour.com.ar/)"
      ]
    },
    {
      "cell_type": "markdown",
      "metadata": {
        "id": "yCOHxbMcVtfn"
      },
      "source": [
        "## Librerías y dependencias"
      ]
    },
    {
      "cell_type": "code",
      "execution_count": null,
      "metadata": {
        "colab": {
          "base_uri": "https://localhost:8080/"
        },
        "id": "EgNGmmoRTR2m",
        "outputId": "ef62652e-1fb6-4d2a-bf07-d5b1d27debf8"
      },
      "outputs": [
        {
          "name": "stderr",
          "output_type": "stream",
          "text": [
            "'apt' is not recognized as an internal or external command,\n",
            "operable program or batch file.\n",
            "'apt' is not recognized as an internal or external command,\n",
            "operable program or batch file.\n"
          ]
        },
        {
          "name": "stdout",
          "output_type": "stream",
          "text": [
            "Defaulting to user installation because normal site-packages is not writeable\n",
            "Requirement already satisfied: selenium in c:\\users\\rocio\\appdata\\local\\packages\\pythonsoftwarefoundation.python.3.12_qbz5n2kfra8p0\\localcache\\local-packages\\python312\\site-packages (4.29.0)\n",
            "Requirement already satisfied: urllib3<3,>=1.26 in c:\\users\\rocio\\appdata\\local\\packages\\pythonsoftwarefoundation.python.3.12_qbz5n2kfra8p0\\localcache\\local-packages\\python312\\site-packages (from urllib3[socks]<3,>=1.26->selenium) (2.3.0)\n",
            "Requirement already satisfied: trio~=0.17 in c:\\users\\rocio\\appdata\\local\\packages\\pythonsoftwarefoundation.python.3.12_qbz5n2kfra8p0\\localcache\\local-packages\\python312\\site-packages (from selenium) (0.29.0)\n",
            "Requirement already satisfied: trio-websocket~=0.9 in c:\\users\\rocio\\appdata\\local\\packages\\pythonsoftwarefoundation.python.3.12_qbz5n2kfra8p0\\localcache\\local-packages\\python312\\site-packages (from selenium) (0.12.2)\n",
            "Requirement already satisfied: certifi>=2021.10.8 in c:\\users\\rocio\\appdata\\local\\packages\\pythonsoftwarefoundation.python.3.12_qbz5n2kfra8p0\\localcache\\local-packages\\python312\\site-packages (from selenium) (2025.1.31)\n",
            "Requirement already satisfied: typing_extensions~=4.9 in c:\\users\\rocio\\appdata\\local\\packages\\pythonsoftwarefoundation.python.3.12_qbz5n2kfra8p0\\localcache\\local-packages\\python312\\site-packages (from selenium) (4.12.2)\n",
            "Requirement already satisfied: websocket-client~=1.8 in c:\\users\\rocio\\appdata\\local\\packages\\pythonsoftwarefoundation.python.3.12_qbz5n2kfra8p0\\localcache\\local-packages\\python312\\site-packages (from selenium) (1.8.0)\n",
            "Requirement already satisfied: attrs>=23.2.0 in c:\\users\\rocio\\appdata\\local\\packages\\pythonsoftwarefoundation.python.3.12_qbz5n2kfra8p0\\localcache\\local-packages\\python312\\site-packages (from trio~=0.17->selenium) (25.3.0)\n",
            "Requirement already satisfied: sortedcontainers in c:\\users\\rocio\\appdata\\local\\packages\\pythonsoftwarefoundation.python.3.12_qbz5n2kfra8p0\\localcache\\local-packages\\python312\\site-packages (from trio~=0.17->selenium) (2.4.0)\n",
            "Requirement already satisfied: idna in c:\\users\\rocio\\appdata\\local\\packages\\pythonsoftwarefoundation.python.3.12_qbz5n2kfra8p0\\localcache\\local-packages\\python312\\site-packages (from trio~=0.17->selenium) (3.10)\n",
            "Requirement already satisfied: outcome in c:\\users\\rocio\\appdata\\local\\packages\\pythonsoftwarefoundation.python.3.12_qbz5n2kfra8p0\\localcache\\local-packages\\python312\\site-packages (from trio~=0.17->selenium) (1.3.0.post0)\n",
            "Requirement already satisfied: sniffio>=1.3.0 in c:\\users\\rocio\\appdata\\local\\packages\\pythonsoftwarefoundation.python.3.12_qbz5n2kfra8p0\\localcache\\local-packages\\python312\\site-packages (from trio~=0.17->selenium) (1.3.1)\n",
            "Requirement already satisfied: cffi>=1.14 in c:\\users\\rocio\\appdata\\local\\packages\\pythonsoftwarefoundation.python.3.12_qbz5n2kfra8p0\\localcache\\local-packages\\python312\\site-packages (from trio~=0.17->selenium) (1.17.1)\n",
            "Requirement already satisfied: wsproto>=0.14 in c:\\users\\rocio\\appdata\\local\\packages\\pythonsoftwarefoundation.python.3.12_qbz5n2kfra8p0\\localcache\\local-packages\\python312\\site-packages (from trio-websocket~=0.9->selenium) (1.2.0)\n",
            "Requirement already satisfied: pysocks!=1.5.7,<2.0,>=1.5.6 in c:\\users\\rocio\\appdata\\local\\packages\\pythonsoftwarefoundation.python.3.12_qbz5n2kfra8p0\\localcache\\local-packages\\python312\\site-packages (from urllib3[socks]<3,>=1.26->selenium) (1.7.1)\n",
            "Requirement already satisfied: pycparser in c:\\users\\rocio\\appdata\\local\\packages\\pythonsoftwarefoundation.python.3.12_qbz5n2kfra8p0\\localcache\\local-packages\\python312\\site-packages (from cffi>=1.14->trio~=0.17->selenium) (2.22)\n",
            "Requirement already satisfied: h11<1,>=0.9.0 in c:\\users\\rocio\\appdata\\local\\packages\\pythonsoftwarefoundation.python.3.12_qbz5n2kfra8p0\\localcache\\local-packages\\python312\\site-packages (from wsproto>=0.14->trio-websocket~=0.9->selenium) (0.14.0)\n"
          ]
        },
        {
          "name": "stderr",
          "output_type": "stream",
          "text": [
            "'wget' is not recognized as an internal or external command,\n",
            "operable program or batch file.\n",
            "tar: Error opening archive: Failed to open 'geckodriver-linux64.tar.gz'\n",
            "'chmod' is not recognized as an internal or external command,\n",
            "operable program or batch file.\n",
            "'mv' is not recognized as an internal or external command,\n",
            "operable program or batch file.\n"
          ]
        }
      ],
      "source": [
        "!apt update\n",
        "!apt install -y firefox\n",
        "%pip install selenium\n",
        "!wget https://github.com/mozilla/geckodriver/releases/latest/download/geckodriver-linux64.tar.gz\n",
        "!tar -xvzf geckodriver-linux64.tar.gz\n",
        "!chmod +x geckodriver\n",
        "!mv geckodriver /usr/local/bin/"
      ]
    },
    {
      "cell_type": "code",
      "execution_count": 2,
      "metadata": {
        "id": "BQWiJVSSTDao"
      },
      "outputs": [],
      "source": [
        "from selenium import webdriver\n",
        "from selenium.webdriver.firefox.options import Options\n",
        "from selenium.webdriver.common.by import By\n",
        "from selenium.webdriver.support.ui import WebDriverWait\n",
        "from selenium.webdriver.support import expected_conditions as EC\n",
        "from selenium.webdriver.common.keys import Keys\n",
        "from selenium.webdriver.common.action_chains import ActionChains\n",
        "import pandas as pd\n",
        "import time\n",
        "import re\n",
        "import psutil\n",
        "import datetime\n",
        "import os"
      ]
    },
    {
      "cell_type": "markdown",
      "metadata": {
        "id": "t5bkhRmuV0kj"
      },
      "source": [
        "## Modularización de código"
      ]
    },
    {
      "cell_type": "code",
      "execution_count": null,
      "metadata": {
        "id": "vdRSEzKTTdYn"
      },
      "outputs": [],
      "source": [
        "def limpiar_nombre(nombre):\n",
        "    \"\"\"Elimina la palabra 'Producto' al inicio del nombre, con o sin espacio.\"\"\"\n",
        "    return re.sub(r\"^Producto\\s*\", \"\", nombre)  # Quita 'Producto' + cualquier espacio opcional\n",
        "\n",
        "def filtrar_productos(productos):\n",
        "    \"\"\"Filtra los productos que son 'slider' o tienen todos los atributos 'No disponible'.\"\"\"\n",
        "    productos_filtrados = []\n",
        "    for producto in productos:\n",
        "        # Filtrar productos llamados 'slider' o con atributos 'No disponible'\n",
        "        if \"slider\" not in producto[\"Nombre del producto\"].lower() and \\\n",
        "           not (producto[\"Precio final\"] == \"No disponible\" and\n",
        "                producto[\"Precio original\"] == \"No disponible\" and\n",
        "                producto[\"Beneficio Mi CRF\"] == \"No\"):\n",
        "            productos_filtrados.append(producto)\n",
        "\n",
        "    return productos_filtrados\n",
        "\n",
        "def limpiar_url(url):\n",
        "    return re.sub(r\"^https://www\\.carrefour\\.com\\.ar/\", \"\", url)\n",
        "\n",
        "def obtener_productos_y_precios(driver):\n",
        "    \"\"\"Extrae nombres de productos y sus precios asegurando correspondencia, detectando ofertas y beneficios.\"\"\"\n",
        "\n",
        "    # Scroll para cargar todo\n",
        "    for _ in range(5):\n",
        "        driver.execute_script(\"window.scrollBy(0, 500);\")\n",
        "        time.sleep(1)\n",
        "\n",
        "    try:\n",
        "        # Esperar a que los productos aparezcan\n",
        "        WebDriverWait(driver, 10).until(\n",
        "            EC.presence_of_element_located((By.CSS_SELECTOR, \"section[aria-label]\"))\n",
        "        )\n",
        "\n",
        "        # Simular interacción para cargar más productos\n",
        "        body = driver.find_element(By.TAG_NAME, \"body\")\n",
        "        body.send_keys(Keys.PAGE_DOWN)\n",
        "        time.sleep(2)\n",
        "\n",
        "        # Obtener todos los productos visibles\n",
        "        productos = driver.find_elements(By.CSS_SELECTOR, \"section[aria-label]\")\n",
        "\n",
        "        productos_precios = []\n",
        "\n",
        "        for producto in productos:\n",
        "            nombre = producto.get_attribute(\"aria-label\")\n",
        "            nuevo_nombre = limpiar_nombre(nombre)\n",
        "\n",
        "            try:\n",
        "                # Obtener el selling price (precio de venta actual)\n",
        "                precio_elemento = producto.find_element(By.CSS_SELECTOR, \"span.valtech-carrefourar-product-price-0-x-sellingPriceValue\")\n",
        "                selling_price = precio_elemento.text.replace(\"\\n\", \"\").strip()\n",
        "            except:\n",
        "                selling_price = \"No disponible\"\n",
        "\n",
        "            try:\n",
        "                # Intentar obtener el list price (precio sin oferta)\n",
        "                list_price_elemento = producto.find_element(By.CSS_SELECTOR, \"span.valtech-carrefourar-product-price-0-x-listPrice\")\n",
        "                list_price = list_price_elemento.text.replace(\"\\n\", \"\").strip()\n",
        "            except:\n",
        "                list_price = selling_price  # Si no hay list price, el selling price es el único precio válido\n",
        "\n",
        "            # Verificar si el producto tiene beneficio Mi CRF\n",
        "            try:\n",
        "                mi_crf_elemento = producto.find_element(By.CSS_SELECTOR, \"div[data-highlight-name*='Mi CRF']\")\n",
        "                beneficio_mi_crf = \"Sí\"\n",
        "            except:\n",
        "                beneficio_mi_crf = \"No\"\n",
        "\n",
        "            productos_precios.append({\n",
        "                \"Nombre del producto\": nuevo_nombre,\n",
        "                \"Precio final\": selling_price,\n",
        "                \"Precio original\": list_price if list_price != selling_price else selling_price,  # Si no tiene oferta, repetir precio\n",
        "                \"Tiene oferta\": \"Sí\" if list_price != selling_price else \"No\",\n",
        "                \"Beneficio Mi CRF\": \"Sí\" if beneficio_mi_crf == \"Si\" else \"No\"\n",
        "            })\n",
        "\n",
        "        return productos_precios\n",
        "\n",
        "    except Exception as e:\n",
        "        print(f\"Error: {e}\")\n",
        "        return []\n",
        "\n",
        "def obtener_total_paginas(driver):\n",
        "    \"\"\"Obtiene el número total de páginas de la categoría.\"\"\"\n",
        "    try:\n",
        "        time.sleep(3)  # Asegurar que la página carga completamente\n",
        "\n",
        "        # Buscar los botones de paginación\n",
        "        paginas = driver.find_elements(By.CSS_SELECTOR, \"div.valtech-carrefourar-search-result-3-x-paginationButtonPages button\")\n",
        "\n",
        "        # Extraer los números de las páginas\n",
        "        numeros = []\n",
        "        for pagina in paginas:\n",
        "            try:\n",
        "                num = int(pagina.text.strip())\n",
        "                numeros.append(num)\n",
        "            except ValueError:\n",
        "                continue  # Ignorar valores no numéricos\n",
        "\n",
        "        total_paginas = max(numeros) if numeros else 1\n",
        "        print(f\"Total de páginas detectadas: {total_paginas}\")\n",
        "        return total_paginas\n",
        "\n",
        "    except Exception as e:\n",
        "        print(f\"Error obteniendo páginas: {e}\")\n",
        "        return 1\n",
        "\n",
        "def scrapear_categoria(driver, url_categoria):\n",
        "    \"\"\"Recorre todas las páginas de una categoría y extrae los productos.\"\"\"\n",
        "    driver.get(url_categoria)\n",
        "    time.sleep(3)\n",
        "\n",
        "    total_paginas = obtener_total_paginas(driver)\n",
        "\n",
        "    todos_los_productos = []\n",
        "\n",
        "    for pagina in range(1, total_paginas + 1):\n",
        "        url_pagina = f\"{url_categoria}?page={pagina}\"\n",
        "        driver.get(url_pagina)\n",
        "        print(f\"Scrapeando página {pagina} de {total_paginas}...\")\n",
        "        time.sleep(3)\n",
        "\n",
        "        productos_pagina = obtener_productos_y_precios(driver)\n",
        "        todos_los_productos.extend(productos_pagina)\n",
        "\n",
        "    return todos_los_productos\n",
        "\n",
        "def construir_links_categorias(base_url, categorias):\n",
        "    \"\"\"Construye los links de las categorías deseadas.\"\"\"\n",
        "    return [f\"{base_url}/{categoria.replace(' ', '-')}\" for categoria in categorias]\n",
        "\n",
        "def agregar_fecha(nombre_base):\n",
        "    \"\"\"Agrega la fecha actual al nombre del archivo, respetando la extensión.\"\"\"\n",
        "    fecha_hoy = datetime.datetime.today().strftime(\"%d-%m-%Y\")\n",
        "    \n",
        "    # Remover caracteres no válidos del nombre base (ejemplo: \"/\")\n",
        "    nombre_base = nombre_base.replace(\"/\", \"_\")\n",
        "    \n",
        "    # Separar la extensión\n",
        "    nombre, extension = os.path.splitext(nombre_base)\n",
        "    \n",
        "    return f\"{nombre}_{fecha_hoy}{extension}\"\n",
        "\n",
        "def guardar_en_excel(productos, url_categoria):\n",
        "    \"\"\"Guarda los productos en un archivo Excel con el nombre de la subcategoría.\"\"\"\n",
        "    if not productos:\n",
        "        print(\"No hay productos para guardar.\")\n",
        "        return\n",
        "\n",
        "    # Ruta relativa para ir a la carpeta superior y luego a \"data\"\n",
        "    directorio = os.path.abspath(os.path.join(\"..\", \"data\"))\n",
        "\n",
        "    os.makedirs(directorio, exist_ok=True) \n",
        "\n",
        "    nombre_categoria = limpiar_url(url_categoria)\n",
        "    nombre_archivo = os.path.join(directorio, agregar_fecha(f\"{nombre_categoria}.xlsx\"))\n",
        "\n",
        "    df = pd.DataFrame(productos)\n",
        "    df.to_excel(nombre_archivo, index=False)\n",
        "\n",
        "    print(f\"Datos guardados en '{nombre_archivo}'\")"
      ]
    },
    {
      "cell_type": "markdown",
      "metadata": {
        "id": "C-R2rL3FV70P"
      },
      "source": [
        "## Scrapping ⌛⌛⌛"
      ]
    },
    {
      "cell_type": "code",
      "execution_count": null,
      "metadata": {
        "colab": {
          "base_uri": "https://localhost:8080/"
        },
        "id": "9U0EYiojTlxH",
        "outputId": "169290bd-007a-4e8b-a6e3-8ac6890f3fbc"
      },
      "outputs": [
        {
          "name": "stdout",
          "output_type": "stream",
          "text": [
            "Scrapeando categoría: https://www.carrefour.com.ar/Panaderia/Pan-rallado-y-rebozadores\n",
            "Total de páginas detectadas: 3\n",
            "Scrapeando página 1 de 3...\n",
            "Scrapeando página 2 de 3...\n",
            "Scrapeando página 3 de 3...\n",
            "Datos guardados en 'c:\\Users\\rocio\\Documentos (in this PC)\\Facultad\\CBTE\\CBTE\\data\\Panaderia_Pan-rallado-y-rebozadores_07-04-2025.xlsx'\n",
            "Tiempo de ejecución: 1.16 minutos\n",
            "Uso de CPU: 43.00%\n",
            "Uso de memoria: -220.79 MB\n"
          ]
        }
      ],
      "source": [
        "# Definir la URL base y las categorías\n",
        "base_url = \"https://www.carrefour.com.ar/\"\n",
        "categorias_deseadas = [\"Panaderia/Pan-rallado-y-rebozadores\"] #Frutas y Verduras ,\"Almacen\",\"Bazar-y-textil/Libreria?order=\", \"Desayuno y merienda\",\"Carnes y Pescados\",\"Lácteos y productos frescos\", \"Limpieza\", \"Perfumería\"\n",
        "# Obtener los links de las categorías\n",
        "links_categorias = construir_links_categorias(base_url, categorias_deseadas)\n",
        "\n",
        "# Configurar Firefox en modo headless (sin interfaz gráfica)\n",
        "options = Options()\n",
        "options.add_argument(\"--headless\")  # Modo sin interfaz gráfica\n",
        "driver = webdriver.Firefox(options=options)\n",
        "\n",
        "# Medir tiempo de ejecución\n",
        "start_time = time.time()\n",
        "\n",
        "total_cpu_start = psutil.cpu_percent()\n",
        "total_memory_start = psutil.virtual_memory().used / (1024 ** 2)  # Convertir a MB\n",
        "\n",
        "# Iterar sobre cada categoría y scrapear los productos\n",
        "for url_categoria in links_categorias:\n",
        "    print(f\"Scrapeando categoría: {url_categoria}\")\n",
        "    productos = scrapear_categoria(driver, url_categoria)\n",
        "    productos_filtrados = filtrar_productos(productos)\n",
        "    guardar_en_excel(productos_filtrados, url_categoria)\n",
        "\n",
        "# Medir tiempo y recursos utilizados\n",
        "end_time = time.time()\n",
        "total_cpu_end = psutil.cpu_percent()\n",
        "total_memory_end = psutil.virtual_memory().used / (1024 ** 2)  # Convertir a MB\n",
        "\n",
        "driver.quit()\n",
        "\n",
        "execution_time = end_time - start_time\n",
        "cpu_usage = total_cpu_end - total_cpu_start\n",
        "memory_usage = total_memory_end - total_memory_start\n",
        "\n",
        "print(f\"Tiempo de ejecución: {execution_time / 60:.2f} minutos\")\n",
        "print(f\"Uso de CPU: {cpu_usage:.2f}%\")\n",
        "print(f\"Uso de memoria: {memory_usage:.2f} MB\")"
      ]
    }
  ],
  "metadata": {
    "colab": {
      "provenance": []
    },
    "kernelspec": {
      "display_name": "Python 3",
      "name": "python3"
    },
    "language_info": {
      "codemirror_mode": {
        "name": "ipython",
        "version": 3
      },
      "file_extension": ".py",
      "mimetype": "text/x-python",
      "name": "python",
      "nbconvert_exporter": "python",
      "pygments_lexer": "ipython3",
      "version": "3.12.9"
    }
  },
  "nbformat": 4,
  "nbformat_minor": 0
}
